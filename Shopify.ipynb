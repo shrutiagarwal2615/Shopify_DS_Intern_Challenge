{
  "nbformat": 4,
  "nbformat_minor": 0,
  "metadata": {
    "colab": {
      "name": "Shopify.ipynb",
      "provenance": [],
      "collapsed_sections": [],
      "authorship_tag": "ABX9TyOP//prc4EBfS2xm9jrbe60",
      "include_colab_link": true
    },
    "kernelspec": {
      "name": "python3",
      "display_name": "Python 3"
    },
    "language_info": {
      "name": "python"
    }
  },
  "cells": [
    {
      "cell_type": "markdown",
      "metadata": {
        "id": "view-in-github",
        "colab_type": "text"
      },
      "source": [
        "<a href=\"https://colab.research.google.com/github/shrutiagarwal2615/Shopify_DS_Intern_Challenge/blob/main/Shopify.ipynb\" target=\"_parent\"><img src=\"https://colab.research.google.com/assets/colab-badge.svg\" alt=\"Open In Colab\"/></a>"
      ]
    },
    {
      "cell_type": "markdown",
      "metadata": {
        "id": "tZlGGVV9d9Px"
      },
      "source": [
        "#Question 1: \n",
        "Given some sample data, write a program to answer the following: click here to access the required data set\n",
        "\n",
        "On Shopify, we have exactly 100 sneaker shops, and each of these shops sells only one model of shoe. We want to do some analysis of the average order value (AOV). When we look at orders data over a 30 day window, we naively calculate an AOV of $3145.13. Given that we know these shops are selling sneakers, a relatively affordable item, something seems wrong with our analysis. \n"
      ]
    },
    {
      "cell_type": "code",
      "metadata": {
        "colab": {
          "base_uri": "https://localhost:8080/"
        },
        "id": "Vww5UITT9ExF",
        "outputId": "6fa74b33-05c9-460a-8018-5f11d9cf59d1"
      },
      "source": [
        "\n",
        "# there are two diffrent types of orders looking at the data, a lot of values for item quantity are less than 10 and some are greater than 1000 therefore the average does not reflect real orders \n",
        "# because the sample is not coherent. the solution would be to divide the sample and calculate two diffrent averages: Business-to-Customer and Business-to-Business\n",
        "\n",
        "#define main\n",
        "def main():\n",
        "\n",
        "\tB2Bamount =0.0\n",
        "\tB2Camount = 0.0\n",
        "\tB2Borders =0.0\n",
        "\tB2Corders = 0.0\n",
        "\tTotalamount =0.0\n",
        "\t\n",
        "\twith open(\"/content/Shopify_Intern_Data.csv\", \"r\") as file:\n",
        "\t\tnext(file)\n",
        "\t\tfor line in file:\n",
        "\t\t\torder_id, shop_id, user_id, order_amount, total_items, payment_method, created_at = line.split(\",\")\n",
        "\t\t\torder_amount = int(order_amount)\n",
        "\t\t\ttotal_items = int(total_items)\n",
        "\t\t\tTotalamount += order_amount\n",
        "\t\t\tif (total_items > 1000): #diving orders into two categories (B2B and B2C)\n",
        "\t\t\t\tB2Bamount += order_amount\n",
        "\t\t\t\tB2Borders += 1\n",
        "\t\t\telse:\n",
        "\t\t\t\tB2Camount += order_amount\n",
        "\t\t\t\tB2Corders += 1\n",
        "\n",
        "\tprint(\"AOV of B2B is \" , B2Bamount / B2Borders)\n",
        "\tprint(\"AOV of B2C is \" , B2Camount / B2Corders)\n",
        "\tprint(\"AOV of total orders is\",Totalamount/(B2Borders+B2Corders) )\n",
        "#define run\n",
        "if __name__ == \"__main__\":\n",
        "\tmain()"
      ],
      "execution_count": null,
      "outputs": [
        {
          "output_type": "stream",
          "text": [
            "AOV of B2B is  704000.0\n",
            "AOV of B2C is  754.0919125025085\n",
            "AOV of total orders is 3145.128\n"
          ],
          "name": "stdout"
        }
      ]
    },
    {
      "cell_type": "markdown",
      "metadata": {
        "id": "65syYVcUd7qt"
      },
      "source": [
        "##**A**. Think about what could be going wrong with our calculation. Think about a better way to evaluate this data. "
      ]
    },
    {
      "cell_type": "markdown",
      "metadata": {
        "id": "uWQtZWMSc52S"
      },
      "source": [
        "### As we can see that there were certain high values of order amounts in the data as compared to other values which are usually below 10, so the AOV value is probably coming from the mean of all the orders and ignoring the large deviation in order amounts. \n",
        "###To better evaluate this data, after validating that data records the minimum value of order amount is 90 and maximum is 704000 and the frequency of the orders with  high order amount is having a fixed pattern like same order items from one or two stores ordered daily. So, i decided to divide the orders into two categories B2B and B2C on the basis that item ordered >1000 then its B2B."
      ]
    },
    {
      "cell_type": "markdown",
      "metadata": {
        "id": "uf80FGlGc63A"
      },
      "source": [
        "##**B**. What metric would you report for this dataset?\n"
      ]
    },
    {
      "cell_type": "markdown",
      "metadata": {
        "id": "tcjGL88vhyl_"
      },
      "source": [
        "###AOV is the average order value calculated by dividing the total revenue with the total number of orders. Since, we identified in the data that there are two major categories of order placed, B2B and B2C, so we need to calculate AOV for both categories and these numbers are now more reasonable."
      ]
    },
    {
      "cell_type": "markdown",
      "metadata": {
        "id": "Ei68cqPaiEnB"
      },
      "source": [
        "##**C**.What is its value?"
      ]
    },
    {
      "cell_type": "markdown",
      "metadata": {
        "id": "SDyhWcyfiEEs"
      },
      "source": [
        "AOV of B2B is  704000.0\n",
        "\n",
        "AOV of B2C is  754.0919125025085  \n",
        "This AOV value now seems more aligned and reasonable with the order amounts for business to customer transactions. \n"
      ]
    },
    {
      "cell_type": "code",
      "metadata": {
        "id": "kNDo0DqGAnh0"
      },
      "source": [
        ""
      ],
      "execution_count": null,
      "outputs": []
    }
  ]
}